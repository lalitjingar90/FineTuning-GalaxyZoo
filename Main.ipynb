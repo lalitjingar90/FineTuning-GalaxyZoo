{
 "cells": [
  {
   "cell_type": "markdown",
   "metadata": {},
   "source": [
    "<span style=\"color: red; font-size: 32px;\">Finetuning Project</span>\r\n"
   ]
  },
  {
   "cell_type": "markdown",
   "metadata": {},
   "source": [
    "## In this notebook I have used MobileNet as my pre-trained model and worked on that!!"
   ]
  },
  {
   "cell_type": "code",
   "execution_count": 2,
   "metadata": {
    "_cell_guid": "b1076dfc-b9ad-4769-8c92-a6c4dae69d19",
    "_uuid": "8f2839f25d086af736a60e9eeb907d3b93b6e0e5",
    "execution": {
     "iopub.execute_input": "2024-11-27T20:09:55.988129Z",
     "iopub.status.busy": "2024-11-27T20:09:55.987195Z",
     "iopub.status.idle": "2024-11-27T20:09:55.994114Z",
     "shell.execute_reply": "2024-11-27T20:09:55.993015Z",
     "shell.execute_reply.started": "2024-11-27T20:09:55.988094Z"
    }
   },
   "outputs": [
    {
     "name": "stdout",
     "output_type": "stream",
     "text": [
      "/kaggle/input/galaxy-zoo-the-galaxy-challenge/all_ones_benchmark.zip\n",
      "/kaggle/input/galaxy-zoo-the-galaxy-challenge/images_test_rev1.zip\n",
      "/kaggle/input/galaxy-zoo-the-galaxy-challenge/central_pixel_benchmark.zip\n",
      "/kaggle/input/galaxy-zoo-the-galaxy-challenge/images_training_rev1.zip\n",
      "/kaggle/input/galaxy-zoo-the-galaxy-challenge/all_zeros_benchmark.zip\n",
      "/kaggle/input/galaxy-zoo-the-galaxy-challenge/training_solutions_rev1.zip\n"
     ]
    }
   ],
   "source": [
    "# This Python 3 environment comes with many helpful analytics libraries installed\n",
    "# It is defined by the kaggle/python Docker image: https://github.com/kaggle/docker-python\n",
    "# For example, here's several helpful packages to load\n",
    "\n",
    "import numpy as np # linear algebra\n",
    "import pandas as pd # data processing, CSV file I/O (e.g. pd.read_csv)\n",
    "\n",
    "# Input data files are available in the read-only \"../input/\" directory\n",
    "# For example, running this (by clicking run or pressing Shift+Enter) will list all files under the input directory\n",
    "\n",
    "import os\n",
    "for dirname, _, filenames in os.walk('/kaggle/input'):\n",
    "    for filename in filenames:\n",
    "        print(os.path.join(dirname, filename))\n",
    "\n",
    "# You can write up to 20GB to the current directory (/kaggle/working/) that gets preserved as output when you create a version using \"Save & Run All\" \n",
    "# You can also write temporary files to /kaggle/temp/, but they won't be saved outside of the current session"
   ]
  },
  {
   "cell_type": "markdown",
   "metadata": {},
   "source": [
    "## Importing required Libraries"
   ]
  },
  {
   "cell_type": "code",
   "execution_count": null,
   "metadata": {},
   "outputs": [],
   "source": [
    "# Standard libraries\n",
    "import os\n",
    "import cv2\n",
    "import matplotlib.pyplot as plt\n",
    "from sklearn.model_selection import train_test_split\n",
    "\n",
    "# TensorFlow/Keras imports\n",
    "import tensorflow as tf\n",
    "from tensorflow.keras.preprocessing import image\n",
    "from tensorflow.keras.preprocessing.image import ImageDataGenerator\n",
    "from tensorflow.keras.applications.inception_v3 import preprocess_input\n",
    "from tensorflow.keras.optimizers import Adam, RMSprop\n",
    "from tensorflow.keras.callbacks import ModelCheckpoint, EarlyStopping\n",
    "from tensorflow.keras.utils import to_categorical\n",
    "import tensorflow.keras.backend as K\n"
   ]
  },
  {
   "cell_type": "markdown",
   "metadata": {},
   "source": [
    "## Loading the data "
   ]
  },
  {
   "cell_type": "code",
   "execution_count": 3,
   "metadata": {
    "execution": {
     "iopub.execute_input": "2024-11-27T20:09:58.378841Z",
     "iopub.status.busy": "2024-11-27T20:09:58.377835Z",
     "iopub.status.idle": "2024-11-27T20:09:58.793158Z",
     "shell.execute_reply": "2024-11-27T20:09:58.792404Z",
     "shell.execute_reply.started": "2024-11-27T20:09:58.378793Z"
    }
   },
   "outputs": [
    {
     "data": {
      "text/html": [
       "<div>\n",
       "<style scoped>\n",
       "    .dataframe tbody tr th:only-of-type {\n",
       "        vertical-align: middle;\n",
       "    }\n",
       "\n",
       "    .dataframe tbody tr th {\n",
       "        vertical-align: top;\n",
       "    }\n",
       "\n",
       "    .dataframe thead th {\n",
       "        text-align: right;\n",
       "    }\n",
       "</style>\n",
       "<table border=\"1\" class=\"dataframe\">\n",
       "  <thead>\n",
       "    <tr style=\"text-align: right;\">\n",
       "      <th></th>\n",
       "      <th>GalaxyID</th>\n",
       "      <th>Class1.1</th>\n",
       "      <th>Class1.2</th>\n",
       "      <th>Class1.3</th>\n",
       "      <th>Class2.1</th>\n",
       "      <th>Class2.2</th>\n",
       "      <th>Class3.1</th>\n",
       "      <th>Class3.2</th>\n",
       "      <th>Class4.1</th>\n",
       "      <th>Class4.2</th>\n",
       "      <th>...</th>\n",
       "      <th>Class9.3</th>\n",
       "      <th>Class10.1</th>\n",
       "      <th>Class10.2</th>\n",
       "      <th>Class10.3</th>\n",
       "      <th>Class11.1</th>\n",
       "      <th>Class11.2</th>\n",
       "      <th>Class11.3</th>\n",
       "      <th>Class11.4</th>\n",
       "      <th>Class11.5</th>\n",
       "      <th>Class11.6</th>\n",
       "    </tr>\n",
       "  </thead>\n",
       "  <tbody>\n",
       "    <tr>\n",
       "      <th>0</th>\n",
       "      <td>100008</td>\n",
       "      <td>0.383147</td>\n",
       "      <td>0.616853</td>\n",
       "      <td>0.000000</td>\n",
       "      <td>0.000000</td>\n",
       "      <td>0.616853</td>\n",
       "      <td>0.038452</td>\n",
       "      <td>0.578401</td>\n",
       "      <td>0.418398</td>\n",
       "      <td>0.198455</td>\n",
       "      <td>...</td>\n",
       "      <td>0.000000</td>\n",
       "      <td>0.279952</td>\n",
       "      <td>0.138445</td>\n",
       "      <td>0.000000</td>\n",
       "      <td>0.000000</td>\n",
       "      <td>0.092886</td>\n",
       "      <td>0.0</td>\n",
       "      <td>0.0</td>\n",
       "      <td>0.0</td>\n",
       "      <td>0.325512</td>\n",
       "    </tr>\n",
       "    <tr>\n",
       "      <th>1</th>\n",
       "      <td>100023</td>\n",
       "      <td>0.327001</td>\n",
       "      <td>0.663777</td>\n",
       "      <td>0.009222</td>\n",
       "      <td>0.031178</td>\n",
       "      <td>0.632599</td>\n",
       "      <td>0.467370</td>\n",
       "      <td>0.165229</td>\n",
       "      <td>0.591328</td>\n",
       "      <td>0.041271</td>\n",
       "      <td>...</td>\n",
       "      <td>0.018764</td>\n",
       "      <td>0.000000</td>\n",
       "      <td>0.131378</td>\n",
       "      <td>0.459950</td>\n",
       "      <td>0.000000</td>\n",
       "      <td>0.591328</td>\n",
       "      <td>0.0</td>\n",
       "      <td>0.0</td>\n",
       "      <td>0.0</td>\n",
       "      <td>0.000000</td>\n",
       "    </tr>\n",
       "    <tr>\n",
       "      <th>2</th>\n",
       "      <td>100053</td>\n",
       "      <td>0.765717</td>\n",
       "      <td>0.177352</td>\n",
       "      <td>0.056931</td>\n",
       "      <td>0.000000</td>\n",
       "      <td>0.177352</td>\n",
       "      <td>0.000000</td>\n",
       "      <td>0.177352</td>\n",
       "      <td>0.000000</td>\n",
       "      <td>0.177352</td>\n",
       "      <td>...</td>\n",
       "      <td>0.000000</td>\n",
       "      <td>0.000000</td>\n",
       "      <td>0.000000</td>\n",
       "      <td>0.000000</td>\n",
       "      <td>0.000000</td>\n",
       "      <td>0.000000</td>\n",
       "      <td>0.0</td>\n",
       "      <td>0.0</td>\n",
       "      <td>0.0</td>\n",
       "      <td>0.000000</td>\n",
       "    </tr>\n",
       "    <tr>\n",
       "      <th>3</th>\n",
       "      <td>100078</td>\n",
       "      <td>0.693377</td>\n",
       "      <td>0.238564</td>\n",
       "      <td>0.068059</td>\n",
       "      <td>0.000000</td>\n",
       "      <td>0.238564</td>\n",
       "      <td>0.109493</td>\n",
       "      <td>0.129071</td>\n",
       "      <td>0.189098</td>\n",
       "      <td>0.049466</td>\n",
       "      <td>...</td>\n",
       "      <td>0.000000</td>\n",
       "      <td>0.094549</td>\n",
       "      <td>0.000000</td>\n",
       "      <td>0.094549</td>\n",
       "      <td>0.189098</td>\n",
       "      <td>0.000000</td>\n",
       "      <td>0.0</td>\n",
       "      <td>0.0</td>\n",
       "      <td>0.0</td>\n",
       "      <td>0.000000</td>\n",
       "    </tr>\n",
       "    <tr>\n",
       "      <th>4</th>\n",
       "      <td>100090</td>\n",
       "      <td>0.933839</td>\n",
       "      <td>0.000000</td>\n",
       "      <td>0.066161</td>\n",
       "      <td>0.000000</td>\n",
       "      <td>0.000000</td>\n",
       "      <td>0.000000</td>\n",
       "      <td>0.000000</td>\n",
       "      <td>0.000000</td>\n",
       "      <td>0.000000</td>\n",
       "      <td>...</td>\n",
       "      <td>0.000000</td>\n",
       "      <td>0.000000</td>\n",
       "      <td>0.000000</td>\n",
       "      <td>0.000000</td>\n",
       "      <td>0.000000</td>\n",
       "      <td>0.000000</td>\n",
       "      <td>0.0</td>\n",
       "      <td>0.0</td>\n",
       "      <td>0.0</td>\n",
       "      <td>0.000000</td>\n",
       "    </tr>\n",
       "  </tbody>\n",
       "</table>\n",
       "<p>5 rows × 38 columns</p>\n",
       "</div>"
      ],
      "text/plain": [
       "   GalaxyID  Class1.1  Class1.2  Class1.3  Class2.1  Class2.2  Class3.1  \\\n",
       "0    100008  0.383147  0.616853  0.000000  0.000000  0.616853  0.038452   \n",
       "1    100023  0.327001  0.663777  0.009222  0.031178  0.632599  0.467370   \n",
       "2    100053  0.765717  0.177352  0.056931  0.000000  0.177352  0.000000   \n",
       "3    100078  0.693377  0.238564  0.068059  0.000000  0.238564  0.109493   \n",
       "4    100090  0.933839  0.000000  0.066161  0.000000  0.000000  0.000000   \n",
       "\n",
       "   Class3.2  Class4.1  Class4.2  ...  Class9.3  Class10.1  Class10.2  \\\n",
       "0  0.578401  0.418398  0.198455  ...  0.000000   0.279952   0.138445   \n",
       "1  0.165229  0.591328  0.041271  ...  0.018764   0.000000   0.131378   \n",
       "2  0.177352  0.000000  0.177352  ...  0.000000   0.000000   0.000000   \n",
       "3  0.129071  0.189098  0.049466  ...  0.000000   0.094549   0.000000   \n",
       "4  0.000000  0.000000  0.000000  ...  0.000000   0.000000   0.000000   \n",
       "\n",
       "   Class10.3  Class11.1  Class11.2  Class11.3  Class11.4  Class11.5  Class11.6  \n",
       "0   0.000000   0.000000   0.092886        0.0        0.0        0.0   0.325512  \n",
       "1   0.459950   0.000000   0.591328        0.0        0.0        0.0   0.000000  \n",
       "2   0.000000   0.000000   0.000000        0.0        0.0        0.0   0.000000  \n",
       "3   0.094549   0.189098   0.000000        0.0        0.0        0.0   0.000000  \n",
       "4   0.000000   0.000000   0.000000        0.0        0.0        0.0   0.000000  \n",
       "\n",
       "[5 rows x 38 columns]"
      ]
     },
     "execution_count": 3,
     "metadata": {},
     "output_type": "execute_result"
    }
   ],
   "source": [
    "data = pd.read_csv(\"../input/galaxy-zoo-the-galaxy-challenge/training_solutions_rev1.zip\",\n",
    "                   compression=\"zip\")\n",
    "\n",
    "#data = pd.read_csv('training_solutions_rev1.csv')\n",
    "data.head(5)"
   ]
  },
  {
   "cell_type": "code",
   "execution_count": 4,
   "metadata": {
    "execution": {
     "iopub.execute_input": "2024-11-27T20:09:59.721735Z",
     "iopub.status.busy": "2024-11-27T20:09:59.721421Z",
     "iopub.status.idle": "2024-11-27T20:09:59.727105Z",
     "shell.execute_reply": "2024-11-27T20:09:59.726297Z",
     "shell.execute_reply.started": "2024-11-27T20:09:59.721708Z"
    }
   },
   "outputs": [
    {
     "data": {
      "text/plain": [
       "(61578, 38)"
      ]
     },
     "execution_count": 4,
     "metadata": {},
     "output_type": "execute_result"
    }
   ],
   "source": [
    "data.shape"
   ]
  },
  {
   "cell_type": "code",
   "execution_count": 5,
   "metadata": {
    "execution": {
     "iopub.execute_input": "2024-11-27T20:10:00.508830Z",
     "iopub.status.busy": "2024-11-27T20:10:00.508505Z",
     "iopub.status.idle": "2024-11-27T20:10:00.550420Z",
     "shell.execute_reply": "2024-11-27T20:10:00.549678Z",
     "shell.execute_reply.started": "2024-11-27T20:10:00.508798Z"
    }
   },
   "outputs": [
    {
     "data": {
      "text/html": [
       "<div>\n",
       "<style scoped>\n",
       "    .dataframe tbody tr th:only-of-type {\n",
       "        vertical-align: middle;\n",
       "    }\n",
       "\n",
       "    .dataframe tbody tr th {\n",
       "        vertical-align: top;\n",
       "    }\n",
       "\n",
       "    .dataframe thead th {\n",
       "        text-align: right;\n",
       "    }\n",
       "</style>\n",
       "<table border=\"1\" class=\"dataframe\">\n",
       "  <thead>\n",
       "    <tr style=\"text-align: right;\">\n",
       "      <th></th>\n",
       "      <th>GalaxyID</th>\n",
       "      <th>Class1.1</th>\n",
       "      <th>Class1.2</th>\n",
       "      <th>Class1.3</th>\n",
       "      <th>Class2.1</th>\n",
       "      <th>Class2.2</th>\n",
       "      <th>Class3.1</th>\n",
       "      <th>Class3.2</th>\n",
       "      <th>Class4.1</th>\n",
       "      <th>Class4.2</th>\n",
       "      <th>...</th>\n",
       "      <th>Class9.3</th>\n",
       "      <th>Class10.1</th>\n",
       "      <th>Class10.2</th>\n",
       "      <th>Class10.3</th>\n",
       "      <th>Class11.1</th>\n",
       "      <th>Class11.2</th>\n",
       "      <th>Class11.3</th>\n",
       "      <th>Class11.4</th>\n",
       "      <th>Class11.5</th>\n",
       "      <th>Class11.6</th>\n",
       "    </tr>\n",
       "  </thead>\n",
       "  <tbody>\n",
       "    <tr>\n",
       "      <th>0</th>\n",
       "      <td>100008.jpg</td>\n",
       "      <td>0.383147</td>\n",
       "      <td>0.616853</td>\n",
       "      <td>0.000000</td>\n",
       "      <td>0.000000</td>\n",
       "      <td>0.616853</td>\n",
       "      <td>0.038452</td>\n",
       "      <td>0.578401</td>\n",
       "      <td>0.418398</td>\n",
       "      <td>0.198455</td>\n",
       "      <td>...</td>\n",
       "      <td>0.000000</td>\n",
       "      <td>0.279952</td>\n",
       "      <td>0.138445</td>\n",
       "      <td>0.000000</td>\n",
       "      <td>0.000000</td>\n",
       "      <td>0.092886</td>\n",
       "      <td>0.0</td>\n",
       "      <td>0.0</td>\n",
       "      <td>0.0</td>\n",
       "      <td>0.325512</td>\n",
       "    </tr>\n",
       "    <tr>\n",
       "      <th>1</th>\n",
       "      <td>100023.jpg</td>\n",
       "      <td>0.327001</td>\n",
       "      <td>0.663777</td>\n",
       "      <td>0.009222</td>\n",
       "      <td>0.031178</td>\n",
       "      <td>0.632599</td>\n",
       "      <td>0.467370</td>\n",
       "      <td>0.165229</td>\n",
       "      <td>0.591328</td>\n",
       "      <td>0.041271</td>\n",
       "      <td>...</td>\n",
       "      <td>0.018764</td>\n",
       "      <td>0.000000</td>\n",
       "      <td>0.131378</td>\n",
       "      <td>0.459950</td>\n",
       "      <td>0.000000</td>\n",
       "      <td>0.591328</td>\n",
       "      <td>0.0</td>\n",
       "      <td>0.0</td>\n",
       "      <td>0.0</td>\n",
       "      <td>0.000000</td>\n",
       "    </tr>\n",
       "    <tr>\n",
       "      <th>2</th>\n",
       "      <td>100053.jpg</td>\n",
       "      <td>0.765717</td>\n",
       "      <td>0.177352</td>\n",
       "      <td>0.056931</td>\n",
       "      <td>0.000000</td>\n",
       "      <td>0.177352</td>\n",
       "      <td>0.000000</td>\n",
       "      <td>0.177352</td>\n",
       "      <td>0.000000</td>\n",
       "      <td>0.177352</td>\n",
       "      <td>...</td>\n",
       "      <td>0.000000</td>\n",
       "      <td>0.000000</td>\n",
       "      <td>0.000000</td>\n",
       "      <td>0.000000</td>\n",
       "      <td>0.000000</td>\n",
       "      <td>0.000000</td>\n",
       "      <td>0.0</td>\n",
       "      <td>0.0</td>\n",
       "      <td>0.0</td>\n",
       "      <td>0.000000</td>\n",
       "    </tr>\n",
       "    <tr>\n",
       "      <th>3</th>\n",
       "      <td>100078.jpg</td>\n",
       "      <td>0.693377</td>\n",
       "      <td>0.238564</td>\n",
       "      <td>0.068059</td>\n",
       "      <td>0.000000</td>\n",
       "      <td>0.238564</td>\n",
       "      <td>0.109493</td>\n",
       "      <td>0.129071</td>\n",
       "      <td>0.189098</td>\n",
       "      <td>0.049466</td>\n",
       "      <td>...</td>\n",
       "      <td>0.000000</td>\n",
       "      <td>0.094549</td>\n",
       "      <td>0.000000</td>\n",
       "      <td>0.094549</td>\n",
       "      <td>0.189098</td>\n",
       "      <td>0.000000</td>\n",
       "      <td>0.0</td>\n",
       "      <td>0.0</td>\n",
       "      <td>0.0</td>\n",
       "      <td>0.000000</td>\n",
       "    </tr>\n",
       "    <tr>\n",
       "      <th>4</th>\n",
       "      <td>100090.jpg</td>\n",
       "      <td>0.933839</td>\n",
       "      <td>0.000000</td>\n",
       "      <td>0.066161</td>\n",
       "      <td>0.000000</td>\n",
       "      <td>0.000000</td>\n",
       "      <td>0.000000</td>\n",
       "      <td>0.000000</td>\n",
       "      <td>0.000000</td>\n",
       "      <td>0.000000</td>\n",
       "      <td>...</td>\n",
       "      <td>0.000000</td>\n",
       "      <td>0.000000</td>\n",
       "      <td>0.000000</td>\n",
       "      <td>0.000000</td>\n",
       "      <td>0.000000</td>\n",
       "      <td>0.000000</td>\n",
       "      <td>0.0</td>\n",
       "      <td>0.0</td>\n",
       "      <td>0.0</td>\n",
       "      <td>0.000000</td>\n",
       "    </tr>\n",
       "  </tbody>\n",
       "</table>\n",
       "<p>5 rows × 38 columns</p>\n",
       "</div>"
      ],
      "text/plain": [
       "     GalaxyID  Class1.1  Class1.2  Class1.3  Class2.1  Class2.2  Class3.1  \\\n",
       "0  100008.jpg  0.383147  0.616853  0.000000  0.000000  0.616853  0.038452   \n",
       "1  100023.jpg  0.327001  0.663777  0.009222  0.031178  0.632599  0.467370   \n",
       "2  100053.jpg  0.765717  0.177352  0.056931  0.000000  0.177352  0.000000   \n",
       "3  100078.jpg  0.693377  0.238564  0.068059  0.000000  0.238564  0.109493   \n",
       "4  100090.jpg  0.933839  0.000000  0.066161  0.000000  0.000000  0.000000   \n",
       "\n",
       "   Class3.2  Class4.1  Class4.2  ...  Class9.3  Class10.1  Class10.2  \\\n",
       "0  0.578401  0.418398  0.198455  ...  0.000000   0.279952   0.138445   \n",
       "1  0.165229  0.591328  0.041271  ...  0.018764   0.000000   0.131378   \n",
       "2  0.177352  0.000000  0.177352  ...  0.000000   0.000000   0.000000   \n",
       "3  0.129071  0.189098  0.049466  ...  0.000000   0.094549   0.000000   \n",
       "4  0.000000  0.000000  0.000000  ...  0.000000   0.000000   0.000000   \n",
       "\n",
       "   Class10.3  Class11.1  Class11.2  Class11.3  Class11.4  Class11.5  Class11.6  \n",
       "0   0.000000   0.000000   0.092886        0.0        0.0        0.0   0.325512  \n",
       "1   0.459950   0.000000   0.591328        0.0        0.0        0.0   0.000000  \n",
       "2   0.000000   0.000000   0.000000        0.0        0.0        0.0   0.000000  \n",
       "3   0.094549   0.189098   0.000000        0.0        0.0        0.0   0.000000  \n",
       "4   0.000000   0.000000   0.000000        0.0        0.0        0.0   0.000000  \n",
       "\n",
       "[5 rows x 38 columns]"
      ]
     },
     "execution_count": 5,
     "metadata": {},
     "output_type": "execute_result"
    }
   ],
   "source": [
    "def append_ext(filename):\n",
    "    \"\"\" Appends `.jpg` file extension to a filename \"\"\"\n",
    "    return f\"{filename}.jpg\"\n",
    "    #return filename + '.jpg'\n",
    "\n",
    "#applying the function to the GalaxyID colunm\n",
    "data[\"GalaxyID\"] = data[\"GalaxyID\"].apply(append_ext)\n",
    "\n",
    "#printing the first five row of the dataframe to view the changes\n",
    "data.head(5)"
   ]
  },
  {
   "cell_type": "markdown",
   "metadata": {},
   "source": [
    "## Preparing the dataset"
   ]
  },
  {
   "cell_type": "code",
   "execution_count": null,
   "metadata": {
    "execution": {
     "iopub.execute_input": "2024-11-27T20:10:01.035317Z",
     "iopub.status.busy": "2024-11-27T20:10:01.034958Z",
     "iopub.status.idle": "2024-11-27T20:10:01.520083Z",
     "shell.execute_reply": "2024-11-27T20:10:01.519379Z",
     "shell.execute_reply.started": "2024-11-27T20:10:01.035286Z"
    }
   },
   "outputs": [],
   "source": [
    "new_data = data[\n",
    "    (data[\"Class1.1\"] >= 0.7) |  # Elliptical\n",
    "    (data[\"Class1.2\"] >= 0.7) |  # Spiral\n",
    "    (data[\"Class2.1\"] >= 0.7) |  # Barred Spiral\n",
    "    (data[\"Class2.2\"] >= 0.7) |  # Irregular\n",
    "    (data[\"Class3.1\"] >= 0.7)    # Lenticular\n",
    "].reset_index(drop=True)\n",
    "\n",
    "# # Apply the resolve_classes function to assign one or multiple classes to each row\n",
    "# Define the resolve_classes function for all 5 classes\n",
    "def resolve_classes(row):\n",
    "    classes = []\n",
    "    if row[\"Class1.1\"] >= 0.8:\n",
    "        classes.append(\"Elliptical\")\n",
    "    if row[\"Class1.2\"] >= 0.8:\n",
    "        classes.append(\"Spiral\")\n",
    "    if row[\"Class2.1\"] >= 0.7:\n",
    "        classes.append(\"Merger\")\n",
    "    if row[\"Class3.1\"] >= 0.5:\n",
    "        classes.append(\"Lenticular\")\n",
    "    return \", \".join(classes)\n",
    "\n",
    "# Apply the resolve_classes function to assign classes to each row in new_data\n",
    "new_data[\"class\"] = new_data.apply(resolve_classes, axis=1)\n",
    "\n",
    "\n"
   ]
  },
  {
   "cell_type": "code",
   "execution_count": 7,
   "metadata": {
    "execution": {
     "iopub.execute_input": "2024-11-27T20:10:03.139316Z",
     "iopub.status.busy": "2024-11-27T20:10:03.138571Z",
     "iopub.status.idle": "2024-11-27T20:10:03.154278Z",
     "shell.execute_reply": "2024-11-27T20:10:03.153412Z",
     "shell.execute_reply.started": "2024-11-27T20:10:03.139278Z"
    }
   },
   "outputs": [
    {
     "data": {
      "text/plain": [
       "class\n",
       "                      11693\n",
       "Spiral                11030\n",
       "Elliptical             8132\n",
       "Spiral, Lenticular     2819\n",
       "Spiral, Merger         2292\n",
       "Merger                  543\n",
       "Lenticular              303\n",
       "Name: count, dtype: int64"
      ]
     },
     "execution_count": 7,
     "metadata": {},
     "output_type": "execute_result"
    }
   ],
   "source": [
    "new_data[\"class\"].value_counts()"
   ]
  },
  {
   "cell_type": "code",
   "execution_count": 8,
   "metadata": {
    "execution": {
     "iopub.execute_input": "2024-11-27T20:10:04.223481Z",
     "iopub.status.busy": "2024-11-27T20:10:04.223135Z",
     "iopub.status.idle": "2024-11-27T20:10:04.229818Z",
     "shell.execute_reply": "2024-11-27T20:10:04.228833Z",
     "shell.execute_reply.started": "2024-11-27T20:10:04.223450Z"
    }
   },
   "outputs": [
    {
     "name": "stdout",
     "output_type": "stream",
     "text": [
      "No Tie galaxies found in the dataset.\n"
     ]
    }
   ],
   "source": [
    "# Check if there are any rows with \"Tie\" in the \"class\" column before sampling\n",
    "if \"Tie\" in new_data[\"class\"].values:\n",
    "    # Undersample or oversample each class to balance the dataset\n",
    "    df_tie = new_data[new_data[\"class\"] == \"Tie\"].sample(n=8000, random_state=42, replace=False)\n",
    "    print(\"This is a sample of Tie galaxies\")\n",
    "    print(df_tie.head(5))\n",
    "else:\n",
    "    print(\"No Tie galaxies found in the dataset.\")\n"
   ]
  },
  {
   "cell_type": "markdown",
   "metadata": {},
   "source": [
    "## Balancing the dataset"
   ]
  },
  {
   "cell_type": "code",
   "execution_count": 9,
   "metadata": {
    "execution": {
     "iopub.execute_input": "2024-11-27T20:10:06.102466Z",
     "iopub.status.busy": "2024-11-27T20:10:06.101658Z",
     "iopub.status.idle": "2024-11-27T20:10:06.174213Z",
     "shell.execute_reply": "2024-11-27T20:10:06.173277Z",
     "shell.execute_reply.started": "2024-11-27T20:10:06.102429Z"
    }
   },
   "outputs": [
    {
     "name": "stdout",
     "output_type": "stream",
     "text": [
      "This is a sample of spiral/irregular galaxies\n",
      "         GalaxyID  Class1.1  Class1.2  Class1.3  Class2.1  Class2.2  Class3.1  \\\n",
      "26831  755358.jpg  0.050193  0.946650  0.003156  0.078857  0.867793  0.377288   \n",
      "5379   233208.jpg  0.036000  0.964000  0.000000  0.000000  0.964000  0.071336   \n",
      "26765  753911.jpg  0.022000  0.978000  0.000000  0.021516  0.956484  0.217122   \n",
      "16318  501405.jpg  0.037300  0.951107  0.011593  0.107942  0.843165  0.299054   \n",
      "24013  686013.jpg  0.067239  0.932462  0.000300  0.043401  0.889061  0.019947   \n",
      "\n",
      "       Class3.2  Class4.1  Class4.2  ...  Class10.1  Class10.2  Class10.3  \\\n",
      "26831  0.490505  0.737475  0.130318  ...   0.162543   0.000000   0.574932   \n",
      "5379   0.892664  0.964000  0.000000  ...   0.892664   0.071336   0.000000   \n",
      "26765  0.739362  0.956484  0.000000  ...   0.217122   0.630323   0.109039   \n",
      "16318  0.544111  0.779406  0.063758  ...   0.094088   0.156362   0.528956   \n",
      "24013  0.869115  0.715582  0.173479  ...   0.338947   0.223939   0.152696   \n",
      "\n",
      "       Class11.1  Class11.2  Class11.3  Class11.4  Class11.5  Class11.6  \\\n",
      "26831   0.020944   0.716531   0.000000   0.000000   0.000000   0.000000   \n",
      "5379    0.035668   0.535984   0.035668   0.071336   0.035668   0.249676   \n",
      "26765   0.000000   0.174080   0.521284   0.087040   0.087040   0.087040   \n",
      "16318   0.031856   0.359832   0.152089   0.000000   0.000000   0.235629   \n",
      "24013   0.000000   0.404296   0.073049   0.000000   0.000000   0.238238   \n",
      "\n",
      "        class  \n",
      "26831  Spiral  \n",
      "5379   Spiral  \n",
      "26765  Spiral  \n",
      "16318  Spiral  \n",
      "24013  Spiral  \n",
      "\n",
      "[5 rows x 39 columns]\n",
      "(5000, 39)\n",
      "This is a sample of elliptical galaxies\n",
      "         GalaxyID  Class1.1  Class1.2  Class1.3  Class2.1  Class2.2  Class3.1  \\\n",
      "32877  903518.jpg  0.842695  0.132355  0.024949       0.0  0.132355       0.0   \n",
      "34485  943054.jpg  0.983247  0.000000  0.016753       0.0  0.000000       0.0   \n",
      "3963   197865.jpg  0.825000  0.134000  0.041000       0.0  0.134000       0.0   \n",
      "24699  703450.jpg  0.980290  0.000000  0.019710       0.0  0.000000       0.0   \n",
      "23917  684076.jpg  0.836831  0.151678  0.011491       0.0  0.151678       0.0   \n",
      "\n",
      "       Class3.2  Class4.1  Class4.2  ...  Class10.1  Class10.2  Class10.3  \\\n",
      "32877  0.132355       0.0  0.132355  ...        0.0        0.0        0.0   \n",
      "34485  0.000000       0.0  0.000000  ...        0.0        0.0        0.0   \n",
      "3963   0.134000       0.0  0.134000  ...        0.0        0.0        0.0   \n",
      "24699  0.000000       0.0  0.000000  ...        0.0        0.0        0.0   \n",
      "23917  0.151678       0.0  0.151678  ...        0.0        0.0        0.0   \n",
      "\n",
      "       Class11.1  Class11.2  Class11.3  Class11.4  Class11.5  Class11.6  \\\n",
      "32877        0.0        0.0        0.0        0.0        0.0        0.0   \n",
      "34485        0.0        0.0        0.0        0.0        0.0        0.0   \n",
      "3963         0.0        0.0        0.0        0.0        0.0        0.0   \n",
      "24699        0.0        0.0        0.0        0.0        0.0        0.0   \n",
      "23917        0.0        0.0        0.0        0.0        0.0        0.0   \n",
      "\n",
      "            class  \n",
      "32877  Elliptical  \n",
      "34485  Elliptical  \n",
      "3963   Elliptical  \n",
      "24699  Elliptical  \n",
      "23917  Elliptical  \n",
      "\n",
      "[5 rows x 39 columns]\n",
      "(5000, 39)\n",
      "This is a sample of spiral galaxies\n",
      "         GalaxyID  Class1.1  Class1.2  Class1.3  Class2.1  Class2.2  Class3.1  \\\n",
      "11163  374660.jpg  0.226569  0.740490  0.032940  0.000000  0.740490  0.518239   \n",
      "33110  909665.jpg  0.155123  0.775395  0.069482  0.000000  0.775395  0.527494   \n",
      "12517  406249.jpg  0.256270  0.731694  0.012036  0.050487  0.681207  0.565629   \n",
      "7521   286727.jpg  0.271952  0.728048  0.000000  0.143292  0.584756  0.560066   \n",
      "22289  646198.jpg  0.132325  0.788473  0.079202  0.015833  0.772640  0.611931   \n",
      "\n",
      "       Class3.2  Class4.1  Class4.2  ...  Class10.1  Class10.2  Class10.3  \\\n",
      "11163  0.222251  0.618174  0.122316  ...   0.377738   0.240436   0.000000   \n",
      "33110  0.247901  0.708274  0.067121  ...   0.054537   0.435589   0.218149   \n",
      "12517  0.115578  0.119260  0.561948  ...   0.059630   0.000000   0.059630   \n",
      "7521   0.024690  0.022541  0.562215  ...   0.000000   0.022541   0.000000   \n",
      "22289  0.160709  0.257289  0.515351  ...   0.096483   0.096483   0.064322   \n",
      "\n",
      "       Class11.1  Class11.2  Class11.3  Class11.4  Class11.5  Class11.6  \\\n",
      "11163   0.000000   0.356111        0.0   0.000000        0.0   0.262063   \n",
      "33110   0.272686   0.326515        0.0   0.000000        0.0   0.109074   \n",
      "12517   0.000000   0.059630        0.0   0.000000        0.0   0.059630   \n",
      "7521    0.000000   0.022541        0.0   0.000000        0.0   0.000000   \n",
      "22289   0.000000   0.032161        0.0   0.064322        0.0   0.160806   \n",
      "\n",
      "            class  \n",
      "11163  Lenticular  \n",
      "33110  Lenticular  \n",
      "12517  Lenticular  \n",
      "7521   Lenticular  \n",
      "22289  Lenticular  \n",
      "\n",
      "[5 rows x 39 columns]\n",
      "(5000, 39)\n",
      "This is a sample of spiral/barred spiral galaxies\n",
      "         GalaxyID  Class1.1  Class1.2  Class1.3  Class2.1  Class2.2  Class3.1  \\\n",
      "11597  385536.jpg  0.173573  0.812182  0.014245  0.034327  0.777855  0.572715   \n",
      "16926  516693.jpg  0.077000  0.897000  0.026000  0.026013  0.870987  0.538270   \n",
      "14638  458501.jpg  0.030182  0.958022  0.011796  0.000000  0.958022  0.631484   \n",
      "14283  449936.jpg  0.056725  0.919397  0.023878  0.029151  0.890246  0.622678   \n",
      "21301  621373.jpg  0.000000  0.984713  0.015287  0.000000  0.984713  0.816874   \n",
      "\n",
      "       Class3.2  Class4.1  Class4.2  ...  Class10.1  Class10.2  Class10.3  \\\n",
      "11597  0.205140  0.021052  0.756803  ...   0.000000   0.000000   0.021052   \n",
      "16926  0.332717  0.870987  0.000000  ...   0.307458   0.538270   0.025259   \n",
      "14638  0.326538  0.952056  0.005966  ...   0.144713   0.579802   0.227541   \n",
      "14283  0.267568  0.744977  0.145269  ...   0.270874   0.324312   0.149791   \n",
      "21301  0.167839  0.984713  0.000000  ...   0.081813   0.328237   0.574663   \n",
      "\n",
      "       Class11.1  Class11.2  Class11.3  Class11.4  Class11.5  Class11.6  \\\n",
      "11597   0.000000   0.014800   0.000000   0.000000   0.000000   0.006252   \n",
      "16926   0.000000   0.435493   0.179423   0.025259   0.000000   0.230812   \n",
      "14638   0.000000   0.682624   0.103774   0.020945   0.000000   0.144713   \n",
      "14283   0.000000   0.509495   0.000000   0.000000   0.164003   0.071479   \n",
      "21301   0.027572   0.847838   0.081731   0.000000   0.027572   0.000000   \n",
      "\n",
      "                    class  \n",
      "11597  Spiral, Lenticular  \n",
      "16926  Spiral, Lenticular  \n",
      "14638  Spiral, Lenticular  \n",
      "14283  Spiral, Lenticular  \n",
      "21301  Spiral, Lenticular  \n",
      "\n",
      "[5 rows x 39 columns]\n",
      "(2500, 39)\n",
      "This is a sample of spiral/irregular/lenticular galaxies\n",
      "         GalaxyID  Class1.1  Class1.2  Class1.3  Class2.1  Class2.2  Class3.1  \\\n",
      "13721  436114.jpg  0.110925  0.889075  0.000000  0.777520  0.111555  0.111555   \n",
      "20406  600394.jpg  0.085230  0.913754  0.001016  0.702677  0.211077  0.000000   \n",
      "17922  540801.jpg  0.093424  0.884729  0.021847  0.754730  0.129999  0.000000   \n",
      "17423  528225.jpg  0.181432  0.806446  0.012122  0.806446  0.000000  0.000000   \n",
      "25996  735433.jpg  0.156877  0.843123  0.000000  0.843123  0.000000  0.000000   \n",
      "\n",
      "       Class3.2  Class4.1  Class4.2  ...  Class10.1  Class10.2  Class10.3  \\\n",
      "13721  0.000000  0.111555  0.000000  ...   0.000000        0.0   0.111555   \n",
      "20406  0.211077  0.098821  0.112256  ...   0.098821        0.0   0.000000   \n",
      "17922  0.129999  0.000000  0.129999  ...   0.000000        0.0   0.000000   \n",
      "17423  0.000000  0.000000  0.000000  ...   0.000000        0.0   0.000000   \n",
      "25996  0.000000  0.000000  0.000000  ...   0.000000        0.0   0.000000   \n",
      "\n",
      "       Class11.1  Class11.2  Class11.3  Class11.4  Class11.5  Class11.6  \\\n",
      "13721        0.0   0.111555        0.0        0.0        0.0   0.000000   \n",
      "20406        0.0   0.000000        0.0        0.0        0.0   0.098821   \n",
      "17922        0.0   0.000000        0.0        0.0        0.0   0.000000   \n",
      "17423        0.0   0.000000        0.0        0.0        0.0   0.000000   \n",
      "25996        0.0   0.000000        0.0        0.0        0.0   0.000000   \n",
      "\n",
      "                class  \n",
      "13721  Spiral, Merger  \n",
      "20406  Spiral, Merger  \n",
      "17922  Spiral, Merger  \n",
      "17423  Spiral, Merger  \n",
      "25996  Spiral, Merger  \n",
      "\n",
      "[5 rows x 39 columns]\n",
      "(2500, 39)\n",
      "Balanced data class distribution:\n",
      "class\n",
      "Spiral                5000\n",
      "Elliptical            5000\n",
      "Lenticular            5000\n",
      "Spiral, Lenticular    2500\n",
      "Spiral, Merger        2500\n",
      "Name: count, dtype: int64\n"
     ]
    }
   ],
   "source": [
    "# #Undersample or oversample each class to balance the dataset\n",
    "\n",
    "df_spiral_irregular = new_data[new_data[\"class\"] == \"Spiral\"].sample(n=5000, random_state=42, replace=False)\n",
    "print(\"This is a sample of spiral/irregular galaxies\")\n",
    "print(df_spiral_irregular.head(5))\n",
    "print(df_spiral_irregular.shape)\n",
    "\n",
    "df_elliptical = new_data[new_data[\"class\"] == \"Elliptical\"].sample(n=5000, random_state=42, replace=True)\n",
    "print(\"This is a sample of elliptical galaxies\")\n",
    "print(df_elliptical.head(5))\n",
    "print(df_elliptical.shape)\n",
    "\n",
    "df_spiral = new_data[new_data[\"class\"] == \"Lenticular\"].sample(n=5000, random_state=42, replace=True)\n",
    "print(\"This is a sample of spiral galaxies\")\n",
    "print(df_spiral.head(5))\n",
    "print(df_spiral.shape)\n",
    "\n",
    "df_spiral_barred = new_data[new_data[\"class\"] == \"Spiral, Lenticular\"].sample(n=2500, random_state=42, replace=True)\n",
    "print(\"This is a sample of spiral/barred spiral galaxies\")\n",
    "print(df_spiral_barred.head(5))\n",
    "print(df_spiral_barred.shape)\n",
    "\n",
    "df_spiral_irregular_lenticular = new_data[new_data[\"class\"] == \"Spiral, Merger\"].sample(n=2500, random_state=42, replace=True)\n",
    "print(\"This is a sample of spiral/irregular/lenticular galaxies\")\n",
    "print(df_spiral_irregular_lenticular.head(5))\n",
    "print(df_spiral_irregular_lenticular.shape)\n",
    "\n",
    "# Combine all balanced samples into one DataFrame\n",
    "balanced_data = pd.concat([df_spiral_irregular, df_elliptical, df_spiral, df_spiral_barred, df_spiral_irregular_lenticular])\n",
    "\n",
    "# Check the distribution to confirm balance\n",
    "print(\"Balanced data class distribution:\")\n",
    "print(balanced_data[\"class\"].value_counts())\n"
   ]
  },
  {
   "cell_type": "code",
   "execution_count": null,
   "metadata": {},
   "outputs": [],
   "source": []
  },
  {
   "cell_type": "code",
   "execution_count": 10,
   "metadata": {
    "execution": {
     "iopub.execute_input": "2024-11-27T20:10:08.282330Z",
     "iopub.status.busy": "2024-11-27T20:10:08.281640Z",
     "iopub.status.idle": "2024-11-27T20:10:08.295844Z",
     "shell.execute_reply": "2024-11-27T20:10:08.294938Z",
     "shell.execute_reply.started": "2024-11-27T20:10:08.282296Z"
    }
   },
   "outputs": [
    {
     "data": {
      "text/html": [
       "<div>\n",
       "<style scoped>\n",
       "    .dataframe tbody tr th:only-of-type {\n",
       "        vertical-align: middle;\n",
       "    }\n",
       "\n",
       "    .dataframe tbody tr th {\n",
       "        vertical-align: top;\n",
       "    }\n",
       "\n",
       "    .dataframe thead th {\n",
       "        text-align: right;\n",
       "    }\n",
       "</style>\n",
       "<table border=\"1\" class=\"dataframe\">\n",
       "  <thead>\n",
       "    <tr style=\"text-align: right;\">\n",
       "      <th></th>\n",
       "      <th>GalaxyID</th>\n",
       "      <th>class</th>\n",
       "    </tr>\n",
       "  </thead>\n",
       "  <tbody>\n",
       "    <tr>\n",
       "      <th>11163</th>\n",
       "      <td>374660.jpg</td>\n",
       "      <td>Lenticular</td>\n",
       "    </tr>\n",
       "    <tr>\n",
       "      <th>33110</th>\n",
       "      <td>909665.jpg</td>\n",
       "      <td>Lenticular</td>\n",
       "    </tr>\n",
       "    <tr>\n",
       "      <th>12517</th>\n",
       "      <td>406249.jpg</td>\n",
       "      <td>Lenticular</td>\n",
       "    </tr>\n",
       "    <tr>\n",
       "      <th>7521</th>\n",
       "      <td>286727.jpg</td>\n",
       "      <td>Lenticular</td>\n",
       "    </tr>\n",
       "    <tr>\n",
       "      <th>22289</th>\n",
       "      <td>646198.jpg</td>\n",
       "      <td>Lenticular</td>\n",
       "    </tr>\n",
       "  </tbody>\n",
       "</table>\n",
       "</div>"
      ],
      "text/plain": [
       "         GalaxyID       class\n",
       "11163  374660.jpg  Lenticular\n",
       "33110  909665.jpg  Lenticular\n",
       "12517  406249.jpg  Lenticular\n",
       "7521   286727.jpg  Lenticular\n",
       "22289  646198.jpg  Lenticular"
      ]
     },
     "execution_count": 10,
     "metadata": {},
     "output_type": "execute_result"
    }
   ],
   "source": [
    "frames = [df_spiral, df_elliptical,df_spiral_irregular,df_spiral_barred,df_spiral_irregular_lenticular]\n",
    "df_galaxies = pd.concat(frames)\n",
    "df_galaxies = df_galaxies[[\"GalaxyID\", \"class\"]]\n",
    "df_galaxies.head()\n"
   ]
  },
  {
   "cell_type": "markdown",
   "metadata": {},
   "source": [
    "## Unzipping "
   ]
  },
  {
   "cell_type": "code",
   "execution_count": 11,
   "metadata": {
    "execution": {
     "iopub.execute_input": "2024-11-27T20:10:08.924889Z",
     "iopub.status.busy": "2024-11-27T20:10:08.924008Z",
     "iopub.status.idle": "2024-11-27T20:10:25.508685Z",
     "shell.execute_reply": "2024-11-27T20:10:25.507949Z",
     "shell.execute_reply.started": "2024-11-27T20:10:08.924853Z"
    }
   },
   "outputs": [],
   "source": [
    "import zipfile\n",
    "with zipfile.ZipFile(\"../input/galaxy-zoo-the-galaxy-challenge/images_training_rev1.zip\", 'r') as zip_ref:\n",
    "    zip_ref.extractall()"
   ]
  },
  {
   "cell_type": "code",
   "execution_count": 12,
   "metadata": {
    "execution": {
     "iopub.execute_input": "2024-11-27T20:10:25.510251Z",
     "iopub.status.busy": "2024-11-27T20:10:25.509964Z",
     "iopub.status.idle": "2024-11-27T20:10:37.689700Z",
     "shell.execute_reply": "2024-11-27T20:10:37.688800Z",
     "shell.execute_reply.started": "2024-11-27T20:10:25.510225Z"
    }
   },
   "outputs": [
    {
     "data": {
      "text/plain": [
       "Text(0.5, 1.02, 'Elliptical Galaxy')"
      ]
     },
     "execution_count": 12,
     "metadata": {},
     "output_type": "execute_result"
    },
    {
     "data": {
      "image/png": "[encoded data removed]",
      "text/plain": [
       "<Figure size 1200x450 with 2 Axes>"
      ]
     },
     "metadata": {},
     "output_type": "display_data"
    }
   ],
   "source": [
    "# Printing two random images\n",
    "#images\n",
    "img= image.load_img(\"./images_training_rev1/104934.jpg\")\n",
    "img2 = image.load_img(\"./images_training_rev1/582003.jpg\")\n",
    "\n",
    "#Subplots\n",
    "plt.figure(figsize=(12,4.5))\n",
    "plt.subplot(141)\n",
    "plt.imshow(img)\n",
    "plt.title(\"Spiral Galaxy\", y=1.02, fontsize=12)\n",
    "\n",
    "plt.subplot(142)\n",
    "plt.imshow(img2)\n",
    "plt.title(\"Elliptical Galaxy\", y=1.02, fontsize=12)"
   ]
  },
  {
   "cell_type": "code",
   "execution_count": 13,
   "metadata": {
    "execution": {
     "iopub.execute_input": "2024-11-27T20:10:40.648581Z",
     "iopub.status.busy": "2024-11-27T20:10:40.647788Z",
     "iopub.status.idle": "2024-11-27T20:10:40.848278Z",
     "shell.execute_reply": "2024-11-27T20:10:40.847475Z",
     "shell.execute_reply.started": "2024-11-27T20:10:40.648543Z"
    }
   },
   "outputs": [
    {
     "name": "stdout",
     "output_type": "stream",
     "text": [
      "The images are of size: \n"
     ]
    },
    {
     "data": {
      "text/plain": [
       "(424, 424, 3)"
      ]
     },
     "execution_count": 13,
     "metadata": {},
     "output_type": "execute_result"
    }
   ],
   "source": [
    "import cv2\n",
    "\n",
    "print(\"The images are of size: \")\n",
    "cv2.imread(\"./images_training_rev1/104934.jpg\").shape"
   ]
  },
  {
   "cell_type": "markdown",
   "metadata": {},
   "source": [
    "## Pre-Processing the dataset"
   ]
  },
  {
   "cell_type": "code",
   "execution_count": 15,
   "metadata": {
    "execution": {
     "iopub.execute_input": "2024-11-27T20:10:46.015662Z",
     "iopub.status.busy": "2024-11-27T20:10:46.015329Z",
     "iopub.status.idle": "2024-11-27T20:10:46.604132Z",
     "shell.execute_reply": "2024-11-27T20:10:46.603451Z",
     "shell.execute_reply.started": "2024-11-27T20:10:46.015633Z"
    }
   },
   "outputs": [
    {
     "name": "stdout",
     "output_type": "stream",
     "text": [
      "Found 12000 validated image filenames belonging to 5 classes.\n",
      "Found 4000 validated image filenames belonging to 5 classes.\n",
      "Found 4000 validated image filenames belonging to 5 classes.\n"
     ]
    }
   ],
   "source": [
    "\n",
    "\n",
    "# Split your dataframe into train+valid and test\n",
    "train_valid_df, test_df = train_test_split(df_galaxies, test_size=0.2, random_state=42, stratify=df_galaxies['class'])\n",
    "\n",
    "# Further split train_valid_df into train and validation\n",
    "train_df, valid_df = train_test_split(train_valid_df, test_size=0.25, random_state=42, stratify=train_valid_df['class'])  # 0.25 x 0.8 = 0.2\n",
    "\n",
    "# Create the data generator for training and validation with augmentation\n",
    "datagen = ImageDataGenerator(\n",
    "    rescale=1./255,\n",
    "    rotation_range=40,\n",
    "    width_shift_range=0.2,\n",
    "    height_shift_range=0.2,\n",
    "    shear_range=0.2,\n",
    "    zoom_range=0.2,\n",
    "    horizontal_flip=True,\n",
    "    fill_mode='nearest'\n",
    ")\n",
    "\n",
    "# Training generator\n",
    "train_generator = datagen.flow_from_dataframe(\n",
    "    dataframe=train_df,\n",
    "    target_size=(224, 224),\n",
    "    directory=\"./images_training_rev1\",\n",
    "    batch_size=32,\n",
    "    x_col=\"GalaxyID\",\n",
    "    y_col=\"class\",\n",
    "    color_mode=\"rgb\",\n",
    "    class_mode=\"categorical\",\n",
    "    shuffle=True,\n",
    "    seed=42\n",
    ")\n",
    "\n",
    "# Validation generator\n",
    "valid_generator = datagen.flow_from_dataframe(\n",
    "    dataframe=valid_df,\n",
    "    target_size=(224, 224),\n",
    "    directory=\"./images_training_rev1\",\n",
    "    batch_size=32,\n",
    "    x_col=\"GalaxyID\",\n",
    "    y_col=\"class\",\n",
    "    color_mode=\"rgb\",\n",
    "    class_mode=\"categorical\",\n",
    "    shuffle=True,\n",
    "    seed=42\n",
    ")\n",
    "\n",
    "# Create a test data generator (no augmentation)\n",
    "test_datagen = ImageDataGenerator(rescale=1./255)  # Only rescale for the test set\n",
    "\n",
    "# Test generator\n",
    "test_generator = test_datagen.flow_from_dataframe(\n",
    "    dataframe=test_df,\n",
    "    target_size=(224, 224),\n",
    "    directory=\"./images_training_rev1\",\n",
    "    batch_size=32,\n",
    "    x_col=\"GalaxyID\",\n",
    "    y_col=\"class\",\n",
    "    color_mode=\"rgb\",\n",
    "    class_mode=\"categorical\",\n",
    "    shuffle=False  # Don't shuffle the test data\n",
    ")\n"
   ]
  },
  {
   "cell_type": "markdown",
   "metadata": {},
   "source": [
    "## Model Training"
   ]
  },
  {
   "cell_type": "code",
   "execution_count": null,
   "metadata": {},
   "outputs": [],
   "source": [
    "def build_standard_model(base_model, num_classes):\n",
    "    base_model.trainable = False\n",
    "    inputs = tf.keras.Input(shape=(224, 224, 3))\n",
    "    x = base_model(inputs, training=False)\n",
    "    x = layers.GlobalAveragePooling2D()(x)\n",
    "    outputs = layers.Dense(num_classes, activation=\"softmax\")(x)\n",
    "    model = models.Model(inputs, outputs)\n",
    "    return model\n",
    "\n",
    "num_classes = 5\n",
    "learning_rate = 5e-4\n",
    "epochs = 10"
   ]
  },
  {
   "cell_type": "markdown",
   "metadata": {},
   "source": [
    "## Pre-trained model"
   ]
  },
  {
   "cell_type": "code",
   "execution_count": 19,
   "metadata": {
    "execution": {
     "iopub.execute_input": "2024-11-27T20:18:37.723973Z",
     "iopub.status.busy": "2024-11-27T20:18:37.723608Z",
     "iopub.status.idle": "2024-11-27T20:18:46.637887Z",
     "shell.execute_reply": "2024-11-27T20:18:46.637103Z",
     "shell.execute_reply.started": "2024-11-27T20:18:37.723942Z"
    }
   },
   "outputs": [
    {
     "name": "stdout",
     "output_type": "stream",
     "text": [
      "Evaluating pretrained model...\n",
      "\u001b[1m125/125\u001b[0m \u001b[32m━━━━━━━━━━━━━━━━━━━━\u001b[0m\u001b[37m\u001b[0m \u001b[1m8s\u001b[0m 50ms/step - accuracy: 0.2661 - loss: 1.7839\n",
      "Pretrained Accuracy: 26.50%\n"
     ]
    }
   ],
   "source": [
    "# Load and build the model\n",
    "base_model = tf.keras.applications.MobileNet(weights=\"imagenet\", include_top=False, input_shape=(224, 224, 3))\n",
    "model = build_standard_model(base_model, num_classes)\n",
    "\n",
    "# Compile the model\n",
    "model.compile(optimizer=tf.keras.optimizers.Adam(learning_rate=learning_rate), \n",
    "              loss=\"categorical_crossentropy\", \n",
    "              metrics=[\"accuracy\"])\n",
    "\n",
    "# Evaluate the pretrained model\n",
    "print(\"Evaluating pretrained model...\")\n",
    "pretrained_loss, pretrained_accuracy = model.evaluate(test_generator, verbose=1)\n",
    "print(f\"Pretrained Accuracy: {pretrained_accuracy * 100:.2f}%\")"
   ]
  },
  {
   "cell_type": "markdown",
   "metadata": {},
   "source": [
    "## After Mobile net"
   ]
  },
  {
   "cell_type": "code",
   "execution_count": null,
   "metadata": {
    "execution": {
     "iopub.execute_input": "2024-11-27T20:21:29.222451Z",
     "iopub.status.busy": "2024-11-27T20:21:29.221597Z",
     "iopub.status.idle": "2024-11-27T20:48:50.116987Z",
     "shell.execute_reply": "2024-11-27T20:48:50.116200Z",
     "shell.execute_reply.started": "2024-11-27T20:21:29.222413Z"
    }
   },
   "outputs": [],
   "source": [
    "# Train the model\n",
    "print(\"Training the model...\")\n",
    "history = model.fit(\n",
    "    train_generator,  # Training data generator\n",
    "    epochs=epochs,  # Number of epochs (e.g., 10)\n",
    "    validation_data=valid_generator  # Validation data generator\n",
    ")\n",
    "\n",
    "# Evaluate the model after training\n",
    "print(\"Evaluating model after training...\")\n",
    "test_loss, test_accuracy = model.evaluate(test_generator, verbose=1)\n",
    "\n",
    "# Print the accuracy after training\n",
    "print(f\"Accuracy After Training: {test_accuracy * 100:.2f}%\")"
   ]
  },
  {
   "cell_type": "code",
   "execution_count": 1,
   "metadata": {},
   "outputs": [],
   "source": [
    "## Model Using lora"
   ]
  },
  {
   "cell_type": "code",
   "execution_count": 28,
   "metadata": {
    "execution": {
     "iopub.execute_input": "2024-11-27T21:53:05.770669Z",
     "iopub.status.busy": "2024-11-27T21:53:05.770318Z",
     "iopub.status.idle": "2024-11-27T22:20:13.331416Z",
     "shell.execute_reply": "2024-11-27T22:20:13.330489Z",
     "shell.execute_reply.started": "2024-11-27T21:53:05.770638Z"
    }
   },
   "outputs": [
    {
     "name": "stdout",
     "output_type": "stream",
     "text": [
      "Epoch 1/10\n",
      "\u001b[1m375/375\u001b[0m \u001b[32m━━━━━━━━━━━━━━━━━━━━\u001b[0m\u001b[37m\u001b[0m \u001b[1m167s\u001b[0m 430ms/step - accuracy: 0.4052 - loss: 1.3494 - val_accuracy: 0.6000 - val_loss: 0.9772\n",
      "Epoch 2/10\n",
      "\u001b[1m375/375\u001b[0m \u001b[32m━━━━━━━━━━━━━━━━━━━━\u001b[0m\u001b[37m\u001b[0m \u001b[1m161s\u001b[0m 424ms/step - accuracy: 0.5944 - loss: 0.9607 - val_accuracy: 0.6097 - val_loss: 0.9065\n",
      "Epoch 3/10\n",
      "\u001b[1m375/375\u001b[0m \u001b[32m━━━━━━━━━━━━━━━━━━━━\u001b[0m\u001b[37m\u001b[0m \u001b[1m162s\u001b[0m 425ms/step - accuracy: 0.6321 - loss: 0.8783 - val_accuracy: 0.6555 - val_loss: 0.8466\n",
      "Epoch 4/10\n",
      "\u001b[1m375/375\u001b[0m \u001b[32m━━━━━━━━━━━━━━━━━━━━\u001b[0m\u001b[37m\u001b[0m \u001b[1m162s\u001b[0m 427ms/step - accuracy: 0.6514 - loss: 0.8444 - val_accuracy: 0.6730 - val_loss: 0.8235\n",
      "Epoch 5/10\n",
      "\u001b[1m375/375\u001b[0m \u001b[32m━━━━━━━━━━━━━━━━━━━━\u001b[0m\u001b[37m\u001b[0m \u001b[1m163s\u001b[0m 428ms/step - accuracy: 0.6652 - loss: 0.8153 - val_accuracy: 0.6780 - val_loss: 0.8063\n",
      "Epoch 6/10\n",
      "\u001b[1m375/375\u001b[0m \u001b[32m━━━━━━━━━━━━━━━━━━━━\u001b[0m\u001b[37m\u001b[0m \u001b[1m163s\u001b[0m 429ms/step - accuracy: 0.6639 - loss: 0.8116 - val_accuracy: 0.6712 - val_loss: 0.8014\n",
      "Epoch 7/10\n",
      "\u001b[1m375/375\u001b[0m \u001b[32m━━━━━━━━━━━━━━━━━━━━\u001b[0m\u001b[37m\u001b[0m \u001b[1m162s\u001b[0m 425ms/step - accuracy: 0.6702 - loss: 0.8057 - val_accuracy: 0.6672 - val_loss: 0.7986\n",
      "Epoch 8/10\n",
      "\u001b[1m375/375\u001b[0m \u001b[32m━━━━━━━━━━━━━━━━━━━━\u001b[0m\u001b[37m\u001b[0m \u001b[1m163s\u001b[0m 430ms/step - accuracy: 0.6820 - loss: 0.7901 - val_accuracy: 0.6852 - val_loss: 0.7810\n",
      "Epoch 9/10\n",
      "\u001b[1m375/375\u001b[0m \u001b[32m━━━━━━━━━━━━━━━━━━━━\u001b[0m\u001b[37m\u001b[0m \u001b[1m162s\u001b[0m 426ms/step - accuracy: 0.6914 - loss: 0.7659 - val_accuracy: 0.6720 - val_loss: 0.7918\n",
      "Epoch 10/10\n",
      "\u001b[1m375/375\u001b[0m \u001b[32m━━━━━━━━━━━━━━━━━━━━\u001b[0m\u001b[37m\u001b[0m \u001b[1m161s\u001b[0m 424ms/step - accuracy: 0.6808 - loss: 0.7722 - val_accuracy: 0.6880 - val_loss: 0.7696\n"
     ]
    }
   ],
   "source": [
    "#with Lora\n",
    "class LoRALayer(tf.keras.layers.Layer):\n",
    "    def __init__(self, units, rank=12, alpha=16):\n",
    "        super(LoRALayer, self).__init__()\n",
    "        self.rank = rank\n",
    "        self.alpha = alpha\n",
    "        self.units = units\n",
    "\n",
    "    def build(self, input_shape):\n",
    "        self.low_rank = self.add_weight(shape=(input_shape[-1], self.rank), initializer=\"random_normal\", trainable=True)\n",
    "        self.proj_up = self.add_weight(shape=(self.rank, self.units), initializer=\"random_normal\", trainable=True)\n",
    "        self.scaling_factor = self.alpha / self.rank\n",
    "\n",
    "    def call(self, inputs):\n",
    "        return inputs @ self.low_rank @ self.proj_up * self.scaling_factor\n",
    "\n",
    "def build_model_with_lora(base_model, num_classes):\n",
    "    base_model.trainable = False\n",
    "    inputs = tf.keras.Input(shape=(224, 224, 3))\n",
    "    x = base_model(inputs, training=False)\n",
    "    x = layers.GlobalAveragePooling2D()(x)\n",
    "    lora_output = LoRALayer(num_classes)(x)\n",
    "    outputs = layers.Dense(num_classes, activation=\"softmax\")(lora_output)\n",
    "    model = models.Model(inputs, outputs)\n",
    "    return model\n",
    "\n",
    "# Model setup\n",
    "num_classes = 5  \n",
    "# base_model = tf.keras.applications.ResNet50(weights=\"imagenet\", include_top=False, input_shape=(224, 224, 3))\n",
    "base_model = tf.keras.applications.MobileNet(weights=\"imagenet\", include_top=False, input_shape=(224, 224, 3))\n",
    "model = build_model_with_lora(base_model, num_classes)\n",
    "\n",
    "# Compile and train\n",
    "model.compile(optimizer=tf.keras.optimizers.Adam(learning_rate=5e-4), loss=\"categorical_crossentropy\", metrics=[\"accuracy\"])\n",
    "history = model.fit(train_generator, epochs=10, validation_data=valid_generator)"
   ]
  },
  {
   "cell_type": "code",
   "execution_count": 29,
   "metadata": {
    "execution": {
     "iopub.execute_input": "2024-11-27T22:20:27.962510Z",
     "iopub.status.busy": "2024-11-27T22:20:27.961822Z",
     "iopub.status.idle": "2024-11-27T22:20:34.773921Z",
     "shell.execute_reply": "2024-11-27T22:20:34.773086Z",
     "shell.execute_reply.started": "2024-11-27T22:20:27.962472Z"
    }
   },
   "outputs": [
    {
     "name": "stdout",
     "output_type": "stream",
     "text": [
      "\u001b[1m125/125\u001b[0m \u001b[32m━━━━━━━━━━━━━━━━━━━━\u001b[0m\u001b[37m\u001b[0m \u001b[1m7s\u001b[0m 53ms/step - accuracy: 0.6668 - loss: 0.7837\n",
      "Test Accuracy with Lora: 67.10%\n"
     ]
    }
   ],
   "source": [
    "# Evaluate the model using the test generator\n",
    "test_loss, test_accuracy_lora = model.evaluate(test_generator, verbose=1)\n",
    "\n",
    "print(f\"Test Accuracy with Lora: {test_accuracy_lora * 100:.2f}%\")"
   ]
  },
  {
   "cell_type": "code",
   "execution_count": null,
   "metadata": {},
   "outputs": [],
   "source": []
  },
  {
   "cell_type": "markdown",
   "metadata": {},
   "source": [
    "## Accuracies"
   ]
  },
  {
   "cell_type": "code",
   "execution_count": 30,
   "metadata": {
    "execution": {
     "iopub.execute_input": "2024-11-27T22:22:38.361864Z",
     "iopub.status.busy": "2024-11-27T22:22:38.360884Z",
     "iopub.status.idle": "2024-11-27T22:22:38.366393Z",
     "shell.execute_reply": "2024-11-27T22:22:38.365474Z",
     "shell.execute_reply.started": "2024-11-27T22:22:38.361826Z"
    }
   },
   "outputs": [
    {
     "name": "stdout",
     "output_type": "stream",
     "text": [
      "Pre Trained Accuracy : 26.50%\n",
      "Test Accuracy: 66.30%\n",
      "Test Accuracy with Lora: 67.10%\n"
     ]
    }
   ],
   "source": [
    "print(f\"Pre Trained Accuracy : {pretrained_accuracy*100:.2f}%\")\n",
    "print(f\"MobileNet Accuracy: {test_accuracy * 100:.2f}%\")\n",
    "print(f\"Accuracy with Lora: {test_accuracy_lora * 100:.2f}%\")"
   ]
  },
  {
   "cell_type": "markdown",
   "metadata": {},
   "source": [
    "# Key take aways:-\n",
    "1. Pretrained accuracy is very low, so it is must to train the model.\n",
    "2. After training the model accuracy increased to 66% , so it means it worked properly and id fulfilling our requirements.\n",
    "3. After further training using Lora our model preforms a little bit more better!!. but not a significant change is there(may be due to some hyper-parameter tunning mistake)."
   ]
  },
  {
   "cell_type": "code",
   "execution_count": null,
   "metadata": {},
   "outputs": [],
   "source": []
  }
 ],
 "metadata": {
  "kaggle": {
   "accelerator": "gpu",
   "dataSources": [
    {
     "databundleVersionId": 44352,
     "sourceId": 3175,
     "sourceType": "competition"
    }
   ],
   "dockerImageVersionId": 30787,
   "isGpuEnabled": true,
   "isInternetEnabled": true,
   "language": "python",
   "sourceType": "notebook"
  },
  "kernelspec": {
   "display_name": "Python 3 (ipykernel)",
   "language": "python",
   "name": "python3"
  },
  "language_info": {
   "codemirror_mode": {
    "name": "ipython",
    "version": 3
   },
   "file_extension": ".py",
   "mimetype": "text/x-python",
   "name": "python",
   "nbconvert_exporter": "python",
   "pygments_lexer": "ipython3",
   "version": "3.10.0"
  }
 },
 "nbformat": 4,
 "nbformat_minor": 4
}
